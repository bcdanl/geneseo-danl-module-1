{
  "cells": [
    {
      "cell_type": "raw",
      "metadata": {},
      "source": [
        "---\n",
        "title: Homework Assignment 1\n",
        "subtitle: Python Basics\n",
        "date: 2024-02-06\n",
        "execute: \n",
        "  echo: false\n",
        "  eval: false\n",
        "  warning: false\n",
        "  message: false\n",
        "\n",
        "code-tools: true\n",
        "# title-block-banner: true\n",
        "\n",
        "comments:\n",
        "  hypothesis: \n",
        "    theme: clean\n",
        "---"
      ],
      "id": "d2310644"
    },
    {
      "cell_type": "markdown",
      "metadata": {},
      "source": [
        "# Direction\n",
        "\n",
        "-   Write a Python code to answer each question.\n",
        "\n",
        "-   Make at least some simple comment (`# ...`) in each question.\n",
        "\n",
        "-   Use your working directory with the subfolder, `data`, so that the relative pathname of CSV files in the subfolder `data` is sufficient to import the CSV files.\n",
        "\n",
        "# Load Libraries\n",
        "\n",
        "-   Import all the Python libraries we need here.\n"
      ],
      "id": "11558dd1"
    },
    {
      "cell_type": "code",
      "metadata": {},
      "source": [
        "import pandas as pd"
      ],
      "id": "657e8869",
      "execution_count": null,
      "outputs": []
    },
    {
      "cell_type": "markdown",
      "metadata": {},
      "source": [
        "# Question 1\n"
      ],
      "id": "cfcb898a"
    },
    {
      "cell_type": "code",
      "metadata": {},
      "source": [
        "ages = (55, 28, 24, 34, 59, 22, 19, 72, 21, 37)"
      ],
      "id": "1e976fc8",
      "execution_count": null,
      "outputs": []
    },
    {
      "cell_type": "markdown",
      "metadata": {},
      "source": [
        "Write a Python code that uses a list comprehension to create a list of ages that are over 30 based on the `ages` list.\n",
        "\n",
        "<br>\n",
        "\n",
        "*Answer*\n"
      ],
      "id": "ee908a47"
    },
    {
      "cell_type": "code",
      "metadata": {},
      "source": [
        "over30list = [age for age in ages if age > 30]\n",
        "print(\"The list of ages over 30 is: \", over30list)"
      ],
      "id": "9108b6f0",
      "execution_count": null,
      "outputs": []
    },
    {
      "cell_type": "markdown",
      "metadata": {},
      "source": [
        "<br><br><br> \n",
        "\n",
        "# Question 2\n",
        "\n",
        "Write a Python code that uses (1) input() function with a message in the Console \"Please enter a number less than 100: \" and (2) if-else statement to print  (a) \"The value entered is greater than or equal to 75.\" if the value entered from the Spyder Console is greater than or equal to 75, and  (b) \"The value entered is greater than or equal to 50.\" and \"The value entered is also less than 75.\" if the value entered from the Spyder Console is less than 75 and greater than or equal to 50, and (c) \"The value entered is less than 50.\" otherwise.\n",
        "\n",
        "<br>\n",
        "\n",
        "*Answer*\n"
      ],
      "id": "a40ad118"
    },
    {
      "cell_type": "code",
      "metadata": {},
      "source": [
        "value_entered = input(\"please enter a number less than 100: \")\n",
        "\n",
        "if int(value_entered) >= 75:\n",
        "    print(\"The value entered is greater than or equal to 75.\")\n",
        "elif int(value_entered) < 75 and int(value_entered) >= 50:\n",
        "    print(\"The value entered is greater than or equal to 50.\")\n",
        "    print(\"The value entered is also less than 75.\")\n",
        "else:\n",
        "    print(\"The value entered is less than 50.\")"
      ],
      "id": "01abab40",
      "execution_count": null,
      "outputs": []
    },
    {
      "cell_type": "markdown",
      "metadata": {},
      "source": [
        "<br><br><br>\n",
        "\n",
        "# Question 3\n"
      ],
      "id": "38fb69d4"
    },
    {
      "cell_type": "code",
      "metadata": {},
      "source": [
        "sequence = [1, 2, None, 4, None, 5, None, None, 6, 7, 8, None, 9, 10]"
      ],
      "id": "ce3c06e6",
      "execution_count": null,
      "outputs": []
    },
    {
      "cell_type": "markdown",
      "metadata": {},
      "source": [
        "Write a Python code that uses a for-loop statement to process each element of `sequence` to calculate the sum of all the numeric values in the `sequence` list.\n",
        "\n",
        "<br>\n",
        "\n",
        "*Answer*\n"
      ],
      "id": "cc5ed1f6"
    },
    {
      "cell_type": "code",
      "metadata": {},
      "source": [
        "sum_of_sequence = 0\n",
        "for value in sequence:\n",
        "    if value == None:\n",
        "        continue\n",
        "    sum_of_sequence += value\n",
        "\n",
        "sum_of_sequence\n",
        "\n",
        "print(\"The total of the values in the sequence is: \", sum_of_sequence)"
      ],
      "id": "75b06283",
      "execution_count": null,
      "outputs": []
    },
    {
      "cell_type": "markdown",
      "metadata": {},
      "source": [
        "<br><br><br>\n",
        "\n",
        "# Question 4\n"
      ],
      "id": "c2c6cca6"
    },
    {
      "cell_type": "code",
      "metadata": {},
      "source": [
        "Wordle = [\"shark\", \n",
        "\"wheal\", \n",
        "\"cheat\", \n",
        "\"stand\", \n",
        "\"table\", \n",
        "\"fight\", \n",
        "\"crane\", \n",
        "\"pease\", \n",
        "\"sweet\", \n",
        "\"lamed\", \n",
        "\"stope\", \n",
        "\"hints\", \n",
        "\"month\", \n",
        "\"shade\", \n",
        "\"mayor\", \n",
        "\"faith\", \n",
        "\"cable\", \n",
        "\"today\", \n",
        "\"tidal\", \n",
        "\"stick\", \n",
        "\"lochs\", \n",
        "\"short\", \n",
        "\"docus\", \n",
        "\"split\", \n",
        "\"swift\", \n",
        "\"sweat\", \n",
        "\"skeet\", \n",
        "\"swelt\", \n",
        "\"blast\", \n",
        "\"trash\", \n",
        "\"tiger\", \n",
        "\"setup\", \n",
        "\"fiest\", \n",
        "\"belly\", \n",
        "\"pokey\", \n",
        "\"sting\", \n",
        "\"blond\", \n",
        "\"goldy\", \n",
        "\"stamp\", \n",
        "\"hooly\", \n",
        "\"moray\", \n",
        "\"dumas\", \n",
        "\"roast\", \n",
        "\"chino\", \n",
        "\"chest\", \n",
        "\"check\", \n",
        "\"roast\", \n",
        "\"blind\", \n",
        "\"check\", \n",
        "\"fogle\", \n",
        "\"cheek\", \n",
        "\"oxide\", \n",
        "\"olive\", \n",
        "\"deash\", \n",
        "\"paves\", \n",
        "\"steam\", \n",
        "\"absey\", \n",
        "\"pesty\", \n",
        "\"mardy\", \n",
        "\"strap\", \n",
        "\"forum\", \n",
        "\"forby\", \n",
        "\"baste\", \n",
        "\"bagie\", \n",
        "\"stomp\", \n",
        "\"misty\", \n",
        "\"adieu\", \n",
        "\"balky\", \n",
        "\"stick\", \n",
        "\"couch\", \n",
        "\"dutch\", \n",
        "\"steam\", \n",
        "\"stomp\", \n",
        "\"calos\", \n",
        "\"pasty\", \n",
        "\"guild\", \n",
        "\"meril\", \n",
        "\"hasty\", \n",
        "\"birch\", \n",
        "\"grind\", \n",
        "\"filer\", \n",
        "\"paler\", \n",
        "\"glide\", \n",
        "\"fudge\", \n",
        "\"kedge\", \n",
        "\"wedge\", \n",
        "\"hedge\", \n",
        "\"plica\", \n",
        "\"chirp\", \n",
        "\"manor\", \n",
        "\"maids\", \n",
        "\"crest\", \n",
        "\"covin\", \n",
        "\"blart\", \n",
        "\"chart\", \n",
        "\"comma\", \n",
        "\"gavel\", \n",
        "\"aphid\", \n",
        "\"orbit\", \n",
        "\"sloth\", \n",
        "\"stear\", \n",
        "\"blurs\"] "
      ],
      "id": "86c87806",
      "execution_count": null,
      "outputs": []
    },
    {
      "cell_type": "markdown",
      "metadata": {},
      "source": [
        "Write a Python code that uses a *for-loop* statement and a *if-else* statement to create a `Wordle` dictionary for which a key is an alphabet and a value is a list of words.\n",
        "\n",
        "\n",
        "<br>\n",
        "\n",
        "*Answer*\n"
      ],
      "id": "e32f2396"
    },
    {
      "cell_type": "code",
      "metadata": {},
      "source": [
        "by_letter = {}\n",
        "\n",
        "for word in Wordle:\n",
        "    letter = word[0]\n",
        "    if letter not in by_letter:\n",
        "        by_letter[letter] = [word]\n",
        "    else:\n",
        "        by_letter[letter].append(word)\n",
        "\n",
        "by_letter"
      ],
      "id": "d61b152d",
      "execution_count": null,
      "outputs": []
    },
    {
      "cell_type": "markdown",
      "metadata": {},
      "source": [
        "<br><br><br>\n",
        "\n",
        "# Question 5\n"
      ],
      "id": "d2dab51b"
    },
    {
      "cell_type": "code",
      "metadata": {},
      "source": [
        "Wordle_by_letter = {'s': ['shark',\n",
        "  'stand',\n",
        "  'sweet',\n",
        "  'stope',\n",
        "  'shade',\n",
        "  'stick',\n",
        "  'short',\n",
        "  'split',\n",
        "  'swift',\n",
        "  'sweat',\n",
        "  'skeet',\n",
        "  'swelt',\n",
        "  'setup',\n",
        "  'sting',\n",
        "  'stamp',\n",
        "  'steam',\n",
        "  'strap',\n",
        "  'stomp',\n",
        "  'stick',\n",
        "  'steam',\n",
        "  'stomp',\n",
        "  'sloth',\n",
        "  'stear'],\n",
        " 'w': ['wheal', 'wedge'],\n",
        " 'c': ['cheat',\n",
        "  'crane',\n",
        "  'cable',\n",
        "  'chino',\n",
        "  'chest',\n",
        "  'check',\n",
        "  'check',\n",
        "  'cheek',\n",
        "  'couch',\n",
        "  'calos',\n",
        "  'chirp',\n",
        "  'crest',\n",
        "  'covin',\n",
        "  'chart',\n",
        "  'comma'],\n",
        " 't': ['table', 'today', 'tidal', 'trash', 'tiger'],\n",
        " 'f': ['fight', 'faith', 'fiest', 'fogle', 'forum', 'forby', 'filer', 'fudge'],\n",
        " 'p': ['pease', 'pokey', 'paves', 'pesty', 'pasty', 'paler', 'plica'],\n",
        " 'l': ['lamed', 'lochs'],\n",
        " 'h': ['hints', 'hooly', 'hasty', 'hedge'],\n",
        " 'm': ['month', 'mayor', 'moray', 'mardy', 'misty', 'meril', 'manor', 'maids'],\n",
        " 'd': ['docus', 'dumas', 'deash', 'dutch'],\n",
        " 'b': ['blast',\n",
        "  'belly',\n",
        "  'blond',\n",
        "  'blind',\n",
        "  'baste',\n",
        "  'bagie',\n",
        "  'balky',\n",
        "  'birch',\n",
        "  'blart',\n",
        "  'blurs'],\n",
        " 'g': ['goldy', 'guild', 'grind', 'glide', 'gavel'],\n",
        " 'r': ['roast', 'roast'],\n",
        " 'o': ['oxide', 'olive', 'orbit'],\n",
        " 'a': ['absey', 'adieu', 'aphid'],\n",
        " 'k': ['kedge']}"
      ],
      "id": "8e2e0a60",
      "execution_count": null,
      "outputs": []
    },
    {
      "cell_type": "markdown",
      "metadata": {},
      "source": [
        "Write a Python code that uses (1) a dictionary, `Wordle_by_letter` (2) `sorted()`, and (3) dictionary comprehension to create an alphabetically-ordered Wordle dictionary for which a key is an alphabet and a value is a list of words.\n",
        "\n",
        "\n",
        "<br>\n",
        "\n",
        "*Answer*\n"
      ],
      "id": "fddc2cbf"
    },
    {
      "cell_type": "code",
      "metadata": {},
      "source": [
        "dict_iterable = list( Wordle_by_letter.items() )\n",
        "dict_iterable = sorted( dict_iterable )\n",
        "\n",
        "by_letter = { k : v for k, v in dict_iterable }\n",
        "by_letter"
      ],
      "id": "9e712528",
      "execution_count": null,
      "outputs": []
    },
    {
      "cell_type": "markdown",
      "metadata": {},
      "source": [
        "<br><br><br>\n",
        "  \n",
        "# Question 6\n",
        "\n",
        "This Python code uses a function to look up code meanings for variables, region and happy, using dictionaries:"
      ],
      "id": "3114c99b"
    },
    {
      "cell_type": "code",
      "metadata": {},
      "source": [
        "def code_lookup(codes):\n",
        "    region, happy = codes\n",
        "    print(\"region, happy: \", (region, happy))\n",
        "    region_dict = {1:\"New England\", \n",
        "                   2:\"Middle Atlantic\",\n",
        "                   3:\"East North Central\", \n",
        "                   4:\"West North Central\",\n",
        "                   5:\"South Atlantic\", \n",
        "                   6:\"East South Central\",\n",
        "                   7:\"West South Central\", \n",
        "                   8:\"Mountain\", \n",
        "                   9:\"Pacific\"}\n",
        "    happy_dict = {1:\"Very happy\", \n",
        "                  2:\"Pretty happy\", \n",
        "                  3:\"Not too happy\",\n",
        "                  8:\"Don't know\", \n",
        "                  9:\"No answer\", \n",
        "                  0:\"Not applicable\"}\n",
        "    return(region_dict[region], happy_dict[happy])"
      ],
      "id": "487076ed",
      "execution_count": null,
      "outputs": []
    },
    {
      "cell_type": "markdown",
      "metadata": {},
      "source": [
        "Write a Python code that uses the function `code_lookup()` and the `print()` function to print the followings:\n",
        "\n",
        "<div style=\"font-family:courier\">Interview region: East North Central</div>\n",
        "<div style=\"font-family:courier\">Happiness level: Pretty happy</div>\n",
        "\n",
        "\n",
        "<br>\n",
        "\n",
        "*Answer*\n"
      ],
      "id": "4de6f606"
    },
    {
      "cell_type": "code",
      "metadata": {},
      "source": [
        "codes = 3, 2\n",
        "response = code_lookup(codes)\n",
        "\n",
        "print(\"Interview region: \" + response[0])\n",
        "print(\"Happiness level: \" + response[1])"
      ],
      "id": "6398adb4",
      "execution_count": null,
      "outputs": []
    },
    {
      "cell_type": "markdown",
      "metadata": {},
      "source": [
        "# Discussion"
      ],
      "id": "112da945"
    }
  ],
  "metadata": {
    "kernelspec": {
      "display_name": "Python 3",
      "language": "python",
      "name": "python3"
    }
  },
  "nbformat": 4,
  "nbformat_minor": 5
}