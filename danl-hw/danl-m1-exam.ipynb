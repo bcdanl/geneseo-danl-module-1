{
  "cells": [
    {
      "cell_type": "raw",
      "metadata": {},
      "source": [
        "---\n",
        "title: Take-home Exam\n",
        "date: 2024-03-19\n",
        "execute: \n",
        "  echo: false\n",
        "  eval: false\n",
        "  warning: false\n",
        "  message: false\n",
        "from: markdown+emoji\n",
        "comments: false\n",
        "---"
      ]
    },
    {
      "cell_type": "markdown",
      "metadata": {},
      "source": [
        "```{r}\n",
        "#| echo: false\n",
        "\n",
        "reticulate::use_condaenv(\"/Users/bchoe/anaconda3\", required = TRUE)\n",
        "```\n",
        "\n",
        "\n",
        "# Direction\n",
        "\n",
        "- Please submit your Jupyter Notebook for the Take-home Exam to the Brightspace with the name below:\n",
        "\n",
        "  - `danl-m1-exam-LASTNAME-FIRSTNAME.ipynb`\\\n",
        "  ( e.g., `danl-m1-exam-choe-byeonghak.ipynb` )\n",
        "\n",
        "- The due is March 26, 2024, 7:00 P.M.\n",
        "\n",
        "- Please send Byeong-Hak an email (`bchoe@geneseo.edu`) if you have any questions.\n",
        "\n",
        "-   Please prepare a Jupyter/Python Notebook (`*.ipynb`) to address all questions.\n",
        "\n",
        "-   Make at least some simple comment (`# ...`) in each question.\n",
        "\n",
        "-   Make one text cell to explain things in each question.\n",
        "\n",
        "-   Import Python libraries you need here."
      ]
    },
    {
      "cell_type": "code",
      "metadata": {},
      "source": [
        "import pandas as pd"
      ],
      "execution_count": null,
      "outputs": []
    },
    {
      "cell_type": "markdown",
      "metadata": {},
      "source": [
        "<br><br><br>\n",
        "\n",
        "\n",
        "\n",
        "# Part 1 - Beer Markets\n",
        "\n",
        "<br>\n",
        "\n",
        "<p align=\"center\">\n",
        "  <img src=\"https://bcdanl.github.io/lec_figs/beer.png\" width=\"600px\">\n",
        "</p>\n",
        "\n",
        "<br>\n",
        "\n",
        "\n",
        "Load DataFrame for Part 1:"
      ]
    },
    {
      "cell_type": "code",
      "metadata": {},
      "source": [
        "#| echo: true\n",
        "beer_mkts = pd.read_csv('https://bcdanl.github.io/data/beer_markets.csv')"
      ],
      "execution_count": null,
      "outputs": []
    },
    {
      "cell_type": "markdown",
      "metadata": {},
      "source": [
        "```{r}\n",
        "#| echo: false\n",
        "#| eval: true\n",
        "#| results: asis\n",
        "rmarkdown::paged_table(readr::read_csv('https://bcdanl.github.io/data/beer_markets.csv'))\n",
        "                       \n",
        "```\n",
        "\n",
        "\n",
        "- Each observation in `beer_mkts` is a household-level transaction record for a purchase of beer.\n",
        "\n",
        "## Variable Description\n",
        "\n",
        "\n",
        "<br>\n",
        "\n",
        "- `hh`: an identifier of the household;\n",
        "- `X_purchase_desc`: details on the purchased item;\n",
        "- `quantity`: the number of items purchased;\n",
        "- `brand`: Bud Light, Busch Light, Coors Light, Miller Lite, or Natural Light;\n",
        "- `dollar_spent`: total dollar value of purchase;\n",
        "- `beer_floz`: total volume of beer, in fluid ounces;\n",
        "- `price_per_floz`: price per fl.oz. (i.e., beer spent/beer floz);\n",
        "- `container`: the type of container;\n",
        "- `promo`: Whether the item was promoted (coupon or otherwise);\n",
        "- `market`: Scan-track market (or state if rural);\n",
        "- demographic data, including gender, marital status, household income, class of work, race, education, age, the size of household, and whether or not the household has a microwave or a dishwasher.\n",
        "\n",
        "\n",
        "<br>\n",
        "\n",
        "<br>\n",
        "\n",
        "## Question 1\n",
        "\n",
        "- Find the top 5 beer markets in terms of the number of households that purchased beer.\n",
        "- Find the top 5 beer markets in terms of the amount of total beer consumption.\n",
        "\n",
        "*Answer*:"
      ]
    },
    {
      "cell_type": "markdown",
      "metadata": {},
      "source": [
        "<br>\n",
        "\n",
        "## Question 2\n",
        "- For households that purchased *BUD LIGHT* at least once, what fraction of households did purchase only *BUD LIGHT*?\n",
        "\n",
        "- For households that purchased *BUSCH LIGHT* at least once, what fraction of households did purchase only *BUSCH LIGHT*?\n",
        "\n",
        "- For households that purchased *COORS LIGHT* at least once, what fraction of households did purchase only *COORS LIGHT*?\n",
        "\n",
        "- For households that purchased *MILLER LITE* at least once, what fraction of households did purchase only *MILLER LITE*?\n",
        "\n",
        "- For households that purchased *NATURAL LIGHT* at least once, what fraction of households did purchase only *NATURAL LIGHT*?\n",
        "\n",
        "- Which beer brand does have the largest proportion of such loyal consumers?\n",
        "\n",
        "\n",
        "*Answer*:"
      ]
    },
    {
      "cell_type": "markdown",
      "metadata": {},
      "source": [
        "<br><br><br>\n",
        "\n",
        "\n",
        "\n",
        "\n",
        "# Part 2 - Search Engine Marketing\n",
        "\n",
        "\n",
        "<br>\n",
        "\n",
        "<p align=\"center\">\n",
        "  <img src=\"https://bcdanl.github.io/lec_figs/ebay-google-mkt.png\" width=\"800px\">\n",
        "</p>\n",
        "\n",
        "<br>\n",
        "\n",
        "\n",
        "Load DataFrame for Part 2:"
      ]
    },
    {
      "cell_type": "code",
      "metadata": {},
      "source": [
        "#| echo: true\n",
        "paidsearch = pd.read_csv('https://bcdanl.github.io/data/paidsearch.csv')"
      ],
      "execution_count": null,
      "outputs": []
    },
    {
      "cell_type": "markdown",
      "metadata": {},
      "source": [
        "```{r}\n",
        "#| echo: false\n",
        "#| eval: true\n",
        "#| results: asis\n",
        "rmarkdown::paged_table(readr::read_csv('https://bcdanl.github.io/data/paidsearch.csv'))\n",
        "                       \n",
        "```\n",
        "\n",
        "\n",
        "##  Variable Description\n",
        "\n",
        "- `dma`: an identification number of a designated market (DM) area `i`, defined by Nielsen (e.g., Boston, Los Angeles. [This webpage](https://www.spstechnical.com/DMACodes.htm) provides the list of DMA names.)\n",
        "- `treatment_period`: 0 if date is before May 22, 2012 and 1 after.\n",
        "- `search_stays_on`: 1 if the paid-search goes off in dma `i`, 0 otherwise.\n",
        "- `revenue`: eBay's sales revenue for dma `i` and date `t`\n",
        "\n",
        "<br>\n",
        "\n",
        "## Question 3\n",
        "\n",
        "Summarize the mean vale of `revenue` for each group of `search_stays_on` and for each `date`.\n",
        "\n",
        "*Answer*:"
      ]
    },
    {
      "cell_type": "markdown",
      "metadata": {},
      "source": [
        "<br>\n",
        "\n",
        "## Question 4\n",
        "\n",
        "Calculate the log difference between mean revenues in each group of `search_stays_on`. (This is the log of the average revenue in group of `search_stays_on` == 1 minus the log of the average revenue in group of `search_stays_on` == 0.)\n",
        "\n",
        "- For example, consider the following two observations:"
      ]
    },
    {
      "cell_type": "code",
      "metadata": {},
      "source": [
        "#| echo: true\n",
        "# date        the daily mean vale of `revenue`   search_stays_on\n",
        "# 1-Apr-12    93650.68                           0\n",
        "# 1-Apr-12    120277.57                          1"
      ],
      "execution_count": null,
      "outputs": []
    },
    {
      "cell_type": "markdown",
      "metadata": {},
      "source": [
        "- The log difference of daily mean revenues between the two group of `search_stays_on` for date 1-Apr-12 is log(120277.57) - log(93650.68).\n",
        "\n",
        "- *Hint*: Below example shows how we can calculate the log of `Value` using `np.log()`:"
      ]
    },
    {
      "cell_type": "code",
      "metadata": {},
      "source": [
        "#| echo: true\n",
        "import pandas as pd\n",
        "import numpy as np\n",
        "\n",
        "# Creating a DataFrame\n",
        "data = {'Value': [1, 10, 100, 1000, 10000]}\n",
        "df = pd.DataFrame(data)\n",
        "\n",
        "# Calculating logarithms\n",
        "df['Log_natural'] = np.log(df['Value'])"
      ],
      "execution_count": null,
      "outputs": []
    },
    {
      "cell_type": "markdown",
      "metadata": {},
      "source": [
        "*Answer*:"
      ]
    },
    {
      "cell_type": "markdown",
      "metadata": {},
      "source": [
        "<br><br>\n",
        "\n",
        "\n",
        "\n",
        "# Part 3 - NFL \n",
        "\n",
        "<br>\n",
        "\n",
        "<p align=\"center\">\n",
        "  <img src=\"https://bcdanl.github.io/lec_figs/nfl.png\" width=\"300px\">\n",
        "</p>\n",
        "\n",
        "<br>\n",
        "\n",
        "- The following is the DataFrame for Part 3. "
      ]
    },
    {
      "cell_type": "code",
      "metadata": {},
      "source": [
        "#| echo: true\n",
        "NFL2023_stuffs <- pd.read_csv('https://bcdanl.github.io/data/NFL2023_stuffs.csv')"
      ],
      "execution_count": null,
      "outputs": []
    },
    {
      "cell_type": "markdown",
      "metadata": {},
      "source": [
        "```{r}\n",
        "#| echo: false\n",
        "#| eval: true\n",
        "rmarkdown::paged_table(readr::read_csv('https://bcdanl.github.io/data/NFL2023_stuffs.csv'))\n",
        "```\n",
        "\n",
        "- `NFL2023_stuffs` is the DataFrame that contains information about NFL games in year 2022, in which the unit of observation is a single play for each drive in a NFL game.\n",
        "\n",
        "\n",
        "## Variable description\n",
        "\n",
        "- `play_id`: Numeric play identifier that when used with `game_id` and `drive` provides the unique identifier for a single play\n",
        "- `game_id`: Ten digit identifier for NFL game.\n",
        "- `drive`: Numeric drive number in the game.\n",
        "- `week`: Season week.\n",
        "- `posteam`: String abbreviation for the team with possession.\n",
        "- `qtr`: Quarter of the game (5 is overtime).\n",
        "- `half_seconds_remaining`: Numeric seconds remaining in the half.\n",
        "- `down`: The down for the given play. \n",
        "  - Basically you get four attempts (aka downs) to move the ball 10 yards (by either running with it or passing it). \n",
        "  - If you make 10 yards then you get another set of four downs.\n",
        "- `pass`: Binary indicator if the play was a pass play.\n",
        "- `wp`: Estimated winning probability for the `posteam` given the current situation at the start of the given play.\n",
        "\n",
        "<br>\n",
        "\n",
        "## Question 5\n",
        "In DataFrame, `NFL2023_stuffs`, remove observations for which values of `posteam` is missing.\n",
        "\n",
        "*Answer*: "
      ]
    },
    {
      "cell_type": "markdown",
      "metadata": {},
      "source": [
        "<br>\n",
        "\n",
        "\n",
        "## Question 6\n",
        "- Calculate the mean value of `pass` for each `posteam` when all the following conditions hold:\n",
        "  1. `wp` is greater than 20% and less than 75%;\n",
        "  2. `down` is less than or equal to 2; and\n",
        "  3. `half_seconds_remaining` is greater than 120.\n",
        "\n",
        "*Answer*: "
      ]
    },
    {
      "cell_type": "markdown",
      "metadata": {},
      "source": [
        "<br>\n",
        "\n",
        "\n",
        "## Question 7\n",
        "- Consider the following DataFrame, `NFL2023_epa`:"
      ]
    },
    {
      "cell_type": "code",
      "metadata": {},
      "source": [
        "#| echo: true\n",
        "NFL2023_epa <- pd.read_csv('https://bcdanl.github.io/data/NFL2023_epa.csv')"
      ],
      "execution_count": null,
      "outputs": []
    },
    {
      "cell_type": "markdown",
      "metadata": {},
      "source": [
        "```{r}\n",
        "#| echo: false\n",
        "#| eval: true\n",
        "#| warning: false\n",
        "#| message: false\n",
        "rmarkdown::paged_table(readr::read_csv('https://bcdanl.github.io/data/NFL2023_epa.csv'))\n",
        "```\n",
        "\n",
        "### Variable Description for `NFL2023_epa`\n",
        "\n",
        "  - `play_id`: Numeric play identifier that when used with `game_id` and `drive` provides the unique identifier for a single play\n",
        "  - `game_id`: Ten digit identifier for NFL game.\n",
        "  - `drive`: Numeric drive number in the game.\n",
        "  - `posteam`: String abbreviation for the team with possession.\n",
        "  - `passer`: Name of the player who passed a ball to a receiver by initially taking a three-step drop and backpedaling into the pocket to make a pass. (Mostly, they are quarterbacks)\n",
        "  - `receiver`: Name of the receiver.\n",
        "  - `epa`: Expected points added (EPA) by the `posteam` for the given play.\n",
        "\n",
        "<br>\n",
        "\n",
        "- Create the DataFrame, `NFL2023_stuffs_EPA`, that includes \n",
        "  1. All the variables in the DataFrame, `NFL2023_stuffs`;\n",
        "  2. The variables, `passer`, `receiver`, and `epa`, from the DataFrame, `NFL2023_epa`.\n",
        "by joining the two DataFrames.\n",
        "\n",
        "- In the resulting DataFrame, `NFL2023_stuffs_EPA`, remove observations with `NA` in `passer`.\n",
        "\n",
        "*Answer*: "
      ]
    },
    {
      "cell_type": "markdown",
      "metadata": {},
      "source": [
        "<br>"
      ]
    }
  ],
  "metadata": {
    "kernelspec": {
      "name": "python3",
      "language": "python",
      "display_name": "Python 3 (ipykernel)"
    }
  },
  "nbformat": 4,
  "nbformat_minor": 4
}