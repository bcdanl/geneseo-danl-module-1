{
  "cells": [
    {
      "cell_type": "raw",
      "metadata": {},
      "source": [
        "---\n",
        "title: Homework Assignment 3\n",
        "subtitle: DANL Module 1\n",
        "author: Byeong-Hak Choe\n",
        "date: 2023-02-20\n",
        "execute: \n",
        "  echo: false\n",
        "  eval: false\n",
        "  warning: false\n",
        "  message: false\n",
        "\n",
        "code-tools: true\n",
        "# title-block-banner: true\n",
        "\n",
        "comments:\n",
        "  hypothesis: \n",
        "    theme: clean\n",
        "---"
      ],
      "id": "18867fa2"
    },
    {
      "cell_type": "markdown",
      "metadata": {},
      "source": [
        "# Direction\n",
        "\n",
        "-   Write a Python code to answer each question.\n",
        "\n",
        "-   Make at least some simple comment (`# ...`) in each question.\n",
        "\n",
        "-   Use your working directory with the subfolder, `data`, so that the relative pathname of CSV files in the subfolder `data` is sufficient to import the CSV files.\n",
        "\n",
        "# Load Libraries\n",
        "\n",
        "-   Import all the Python libraries we need here.\n"
      ],
      "id": "dbb82f79"
    },
    {
      "cell_type": "code",
      "metadata": {},
      "source": [
        "import pandas as pd"
      ],
      "id": "51715d69",
      "execution_count": null,
      "outputs": []
    },
    {
      "cell_type": "markdown",
      "metadata": {},
      "source": [
        "# Question 1\n",
        "\n",
        "-   Consider the probability of survival in `titanic_1.csv`.\n"
      ],
      "id": "8ce98dfb"
    },
    {
      "cell_type": "code",
      "metadata": {},
      "source": [
        "#| echo: true\n",
        "#| eval: true\n",
        "titanic_1 = pd.read_csv('https://bcdanl.github.io/data/titanic_1.csv')"
      ],
      "id": "7918ac91",
      "execution_count": null,
      "outputs": []
    },
    {
      "cell_type": "code",
      "metadata": {},
      "source": [
        "#| echo: true\n",
        "#| eval: true\n",
        "titanic_1.head()"
      ],
      "id": "b3643054",
      "execution_count": null,
      "outputs": []
    },
    {
      "cell_type": "code",
      "metadata": {},
      "source": [
        "#| echo: true\n",
        "#| eval: true\n",
        "titanic_1.describe()"
      ],
      "id": "433ba87c",
      "execution_count": null,
      "outputs": []
    },
    {
      "cell_type": "markdown",
      "metadata": {},
      "source": [
        "## Q1a\n",
        "\n",
        "-   Calculate the simple difference between the probability of survival when passengers are first-class and the probability of survival when they are not.\n"
      ],
      "id": "e7d38ce1"
    },
    {
      "cell_type": "code",
      "metadata": {},
      "source": [
        "# Count the number of passengers in each class and return the count in descending order\n",
        "titanic_1[['pclass']].value_counts()\n",
        "\n",
        "# Count the number of passengers who survived and who didn't and return the count in descending order\n",
        "titanic_1[['survived']].value_counts()\n",
        "\n",
        "# Add a new column 'd' to the titanic_1 dataframe and set all values to 0\n",
        "titanic_1['d'] = 0\n",
        "\n",
        "# For rows where the 'pclass' column is '1st class', set the value of the 'd' column to 1\n",
        "titanic_1.loc[titanic_1['pclass']=='1st class', 'd'] = 1\n",
        "\n",
        "# Add a new column 'survived_d' to the titanic_1 DataFrame and set all values to 0\n",
        "titanic_1['survived_d'] = 0\n",
        "\n",
        "# For rows where the 'survived' column is 'yes', set the value of the 'survived_d' column to 1\n",
        "titanic_1.loc[titanic_1['survived']=='yes', 'survived_d'] = 1\n",
        "\n",
        "# Compute the mean of 'survived_d' for rows where 'd' is 0\n",
        "e_y0 = titanic_1.loc[titanic_1['d']==0, 'survived_d'].mean()\n",
        "\n",
        "# Compute the mean of 'survived_d' for rows where 'd' is 1\n",
        "e_y1 = titanic_1.loc[titanic_1['d']==1, 'survived_d'].mean()\n",
        "\n",
        "# Compute the SDP (so called treatment effect) by subtracting the mean of 'survived_d' where 'd' is 0 from the mean where 'd' is 1\n",
        "SDP = e_y1 - e_y0\n",
        "\n",
        "# Return the value of SDP\n",
        "SDP"
      ],
      "id": "35537753",
      "execution_count": null,
      "outputs": []
    },
    {
      "cell_type": "markdown",
      "metadata": {},
      "source": [
        "## Q1b\n",
        "\n",
        "-   How much does the probability of survival increase for first-class passengers relative to those who are not first-class passengers?\n",
        "\n",
        "-   `SDP` tells us what would happen to the probability of survival if non-first-class passengers were first-class.\n",
        "\n",
        "    -   In other words, `SDP` means the effect of being the first-class on the probability of survival from the Titanic Disaster.\n",
        "\n",
        "## Q1c\n",
        "\n",
        "-   Consider the probability of survival in `titanic_2.csv`.\n"
      ],
      "id": "3eff69a6"
    },
    {
      "cell_type": "code",
      "metadata": {},
      "source": [
        "titanic_2 = pd.read_csv('https://bcdanl.github.io/data/titanic_2.csv')"
      ],
      "id": "acea59a2",
      "execution_count": null,
      "outputs": []
    },
    {
      "cell_type": "code",
      "metadata": {},
      "source": [
        "titanic_2.head()"
      ],
      "id": "4ac8757a",
      "execution_count": null,
      "outputs": []
    },
    {
      "cell_type": "code",
      "metadata": {},
      "source": [
        "titanic_2.describe()"
      ],
      "id": "9ee5d55c",
      "execution_count": null,
      "outputs": []
    },
    {
      "cell_type": "markdown",
      "metadata": {},
      "source": [
        "-   After stratifying on gender and age, what happens to the difference in the probabilities of survival between first-class passengers and non-first-class passengers.\n",
        "\n",
        "-   Explain in your own words what stratifying on gender and age did for this difference in probabilities of survival between first-class passengers and non-first-class passengers.\n"
      ],
      "id": "ad227e0b"
    },
    {
      "cell_type": "code",
      "metadata": {},
      "source": [
        "# Get count of passengers by pclass\n",
        "titanic_2[['pclass']].value_counts()\n",
        "\n",
        "# Get count of passengers who survived or not\n",
        "titanic_2[['survived']].value_counts()\n",
        "\n",
        "# Get count of passengers by gender\n",
        "titanic_2[['sex']].value_counts()\n",
        "\n",
        "# Get count of passengers by age\n",
        "titanic_2[['age']].value_counts()"
      ],
      "id": "cbae4a8e",
      "execution_count": null,
      "outputs": []
    },
    {
      "cell_type": "code",
      "metadata": {},
      "source": [
        "titanic_2.groupby('sex').describe()"
      ],
      "id": "c6f87cca",
      "execution_count": null,
      "outputs": []
    },
    {
      "cell_type": "code",
      "metadata": {},
      "source": [
        "# Create a new column 'd' and set its value to 0 for all rows\n",
        "titanic_2['d'] = 0\n",
        "\n",
        "# Set the value of column 'd' to 1 for rows where pclass is '1st class'\n",
        "titanic_2.loc[titanic_2['pclass']=='1st class', 'd'] = 1\n",
        "\n",
        "# Create a new column 'survived_d' and set its value to 0 for all rows\n",
        "titanic_2['survived_d'] = 0\n",
        "\n",
        "# Set the value of column 'survived_d' to 1 for rows where survived is 'yes'\n",
        "titanic_2.loc[titanic_2['survived']=='yes', 'survived_d'] = 1\n",
        "\n",
        "# Create a new column 'sex_d' and set its value to 0 for all rows\n",
        "titanic_2['sex_d'] = 0\n",
        "\n",
        "# Set the value of column 'sex_d' to 1 for rows where sex is 'male'\n",
        "titanic_2.loc[titanic_2['sex']=='male', 'sex_d'] = 1\n",
        "\n",
        "# Create a new column 'AgeGroup' and set its value to 0 for all rows\n",
        "titanic_2['AgeGroup'] = 0\n",
        "\n",
        "# Set the value of column 'AgeGroup' to 1 for rows where age is greater than or equal to 18\n",
        "titanic_2.loc[titanic_2['age'] >= 18, 'AgeGroup'] = 1"
      ],
      "id": "02e6817e",
      "execution_count": null,
      "outputs": []
    },
    {
      "cell_type": "code",
      "metadata": {},
      "source": [
        "titanic_2.groupby('AgeGroup').describe()"
      ],
      "id": "b8b8c538",
      "execution_count": null,
      "outputs": []
    },
    {
      "cell_type": "code",
      "metadata": {},
      "source": [
        "titanic_2.groupby(['sex', 'AgeGroup']).describe()"
      ],
      "id": "804aca64",
      "execution_count": null,
      "outputs": []
    },
    {
      "cell_type": "code",
      "metadata": {},
      "source": [
        "# Create a new column 's' and set its value to 0 for all rows\n",
        "titanic_2['s'] = 0 \n",
        "\n",
        "# Set the value of column 's' based on gender and age group\n",
        "titanic_2.loc[(titanic_2.sex_d == 0) & (titanic_2.AgeGroup == 1), 's'] = 1\n",
        "titanic_2.loc[(titanic_2.sex_d == 0) & (titanic_2.AgeGroup == 0), 's'] = 2\n",
        "titanic_2.loc[(titanic_2.sex_d == 1) & (titanic_2.AgeGroup == 1), 's'] = 3\n",
        "titanic_2.loc[(titanic_2.sex_d == 1) & (titanic_2.AgeGroup == 0), 's'] = 4\n",
        "\n",
        "# Get the number of observations where d is 0\n",
        "obs = titanic_2.loc[titanic_2.d == 0].shape[0]\n",
        "\n",
        "# Define a function to calculate weighted average effect\n",
        "def weighted_avg_effect(df):\n",
        "  \n",
        "  # Calculate the difference in survival rates between the treatment and control groups\n",
        "    diff = ( df[ df.d == 1 ].survived_d.mean() - \n",
        "             df[ df.d == 0 ].survived_d.mean() )\n",
        "  \n",
        "  # Calculate the weight assigned to the treatment group\n",
        "    weight = df[ df.d == 0 ].shape[0] / obs\n",
        "    \n",
        "  # Calculate the weighted average effect\n",
        "    return diff * weight\n",
        "\n",
        "\n",
        "# Apply the weighted_avg_effect function to each group in the data frame grouped by the s variable\n",
        "SDP2 = titanic_2.groupby('s').apply( weighted_avg_effect )\n",
        "\n",
        "# Calculate the weighted average effect of treatment for the entire population\n",
        "WSDP = SDP2.sum()\n",
        "\n",
        "WSDP"
      ],
      "id": "83cde8f8",
      "execution_count": null,
      "outputs": []
    },
    {
      "cell_type": "markdown",
      "metadata": {},
      "source": [
        "-   The probability of survival for the first-class passengers can be different across gender and age groups.\n",
        "    -   In other words, the effect of being the first-class on the probability of survival from the Titanic Disaster can be different across genders and age groups.\n",
        "-   WSDP takes into account the difference in the effect of being first-class across gender and age groups by weighting.\n"
      ],
      "id": "2a7aea14"
    },
    {
      "cell_type": "code",
      "metadata": {},
      "source": [
        "WSDP - SDP"
      ],
      "id": "941612e0",
      "execution_count": null,
      "outputs": []
    },
    {
      "cell_type": "markdown",
      "metadata": {},
      "source": [
        "-   The probability of survival for first-class after taking into account gender and age (`WSDP`) is less than that (`SDP`) which does presumably assume that characteristics of passengers such as gender and ages is related with the probability of survival.\n",
        "\n",
        "# Question 2\n",
        "\n",
        "-   Consider the data file, `NHL-1617.csv`.\n"
      ],
      "id": "1b794fbc"
    },
    {
      "cell_type": "code",
      "metadata": {},
      "source": [
        "#| echo: true\n",
        "#| eval: true\n",
        "nhl1617 = pd.read_csv('https://bcdanl.github.io/data/NHL-1617.csv')"
      ],
      "id": "5ade878b",
      "execution_count": null,
      "outputs": []
    },
    {
      "cell_type": "code",
      "metadata": {},
      "source": [
        "#| echo: true\n",
        "#| eval: true\n",
        "nhl1617.head()"
      ],
      "id": "65c0e24c",
      "execution_count": null,
      "outputs": []
    },
    {
      "cell_type": "code",
      "metadata": {},
      "source": [
        "#| echo: true\n",
        "#| eval: true\n",
        "nhl1617.describe()"
      ],
      "id": "f480f287",
      "execution_count": null,
      "outputs": []
    },
    {
      "cell_type": "markdown",
      "metadata": {},
      "source": [
        "## Q2a\n",
        "\n",
        "-   How many players have been recorded?\n"
      ],
      "id": "bfc95b07"
    },
    {
      "cell_type": "code",
      "metadata": {},
      "source": [
        "# the number of unique players\n",
        "q2a = nhl1617['id_player'].nunique()  \n",
        "\n",
        "q2a"
      ],
      "id": "86dca652",
      "execution_count": null,
      "outputs": []
    },
    {
      "cell_type": "markdown",
      "metadata": {},
      "source": [
        "## Q2b.\n",
        "\n",
        "-   A column `points` (\"`P`\") is missing in the data. The number of points of a player is defined as the sum of his goals (\"`G`\") and `assists` (\"`A`\").\n",
        "\n",
        "-   Add the point column \"`P`\" to your DataFrame.\n"
      ],
      "id": "6366ce33"
    },
    {
      "cell_type": "code",
      "metadata": {},
      "source": [
        "# create a new column called 'P' in the nhl1617 dataframe that is the sum of the 'G' and 'A' columns\n",
        "q2b = nhl1617.assign(P = nhl1617['G'] + nhl1617['A'])\n",
        "\n",
        "q2b"
      ],
      "id": "c0eeec3e",
      "execution_count": null,
      "outputs": []
    },
    {
      "cell_type": "markdown",
      "metadata": {},
      "source": [
        "## Q2c.\n",
        "\n",
        "-   Who is the top scorer in terms of points?\n"
      ],
      "id": "088a8d83"
    },
    {
      "cell_type": "code",
      "metadata": {},
      "source": [
        "# Sort the DataFrame q2b by the column 'P' in descending order\n",
        "q2c = q2b.sort_values(by= 'P', ascending=False)\n",
        "\n",
        "q2c"
      ],
      "id": "7df90c9d",
      "execution_count": null,
      "outputs": []
    },
    {
      "cell_type": "markdown",
      "metadata": {},
      "source": [
        "## Q2d.\n",
        "\n",
        "-   How many Russian (non-goalie) players had some ice time in there 2016/2017 regular season?\n",
        "\n",
        "-   Hint: Nationality of a player can be found in \"Nat\". Russians are indicated by \"RUS\".\n"
      ],
      "id": "99f33af6"
    },
    {
      "cell_type": "code",
      "metadata": {},
      "source": [
        "# the number of rows in the 'nhl1617' dataframe where the value in the 'Nat' column is equal to 'RUS', and returns the count as output.\n",
        "q2d = len( nhl1617[nhl1617['Nat'] == 'RUS'] )\n",
        "\n",
        "q2d"
      ],
      "id": "5b4b8944",
      "execution_count": null,
      "outputs": []
    },
    {
      "cell_type": "markdown",
      "metadata": {},
      "source": [
        "## Q2e.\n",
        "\n",
        "-   What are their names?\n"
      ],
      "id": "dd93d0bd"
    },
    {
      "cell_type": "code",
      "metadata": {},
      "source": [
        "# Select rows where the 'Nat' column equals 'RUS', then select only the 'Last_Name' and 'First_Name' columns\n",
        "q2e = nhl1617[ nhl1617['Nat'] == 'RUS' ][ ['Last_Name', 'First_Name'] ]\n",
        "\n",
        "q2e"
      ],
      "id": "cc13cacd",
      "execution_count": null,
      "outputs": []
    },
    {
      "cell_type": "markdown",
      "metadata": {},
      "source": [
        "## Q2f.\n",
        "\n",
        "-   Who performed best among the Russian players in terms of points (\"`P`\")?\n"
      ],
      "id": "4cb7bf59"
    },
    {
      "cell_type": "code",
      "metadata": {},
      "source": [
        "# Select only the rows where 'Nat' column is 'RUS'\n",
        "# Then sort these rows in descending order based on the values in the 'P' column\n",
        "q2f = q2b[q2b['Nat'] == 'RUS'].sort_values(by='P', ascending = False)\n",
        "\n",
        "q2f"
      ],
      "id": "e46334ea",
      "execution_count": null,
      "outputs": []
    },
    {
      "cell_type": "markdown",
      "metadata": {},
      "source": [
        "## Q2g.\n",
        "\n",
        "-   How many points (\"`P`\") did he have?\n"
      ],
      "id": "7de81bbe"
    },
    {
      "cell_type": "code",
      "metadata": {},
      "source": [
        "q2g = (\n",
        "  q2b[q2b['Nat'] == 'RUS'] \n",
        "  .sort_values(by='P', ascending=False)\n",
        "  .head(1)[['Last_Name', 'First_Name', 'P']]\n",
        "  )\n",
        "  \n",
        "q2g"
      ],
      "id": "bdb8334f",
      "execution_count": null,
      "outputs": []
    },
    {
      "cell_type": "markdown",
      "metadata": {},
      "source": [
        "-   The above code creates a new DataFrame called `q2g`, which:\n",
        "\n",
        "    1.  Filters `q2b` for players whose nationality is '`RUS`'\n",
        "    2.  Sorts the filtered DataFrame by the '`P`' column in descending order\n",
        "    3.  Selects the top row of the sorted DataFrame using the `.head(1)` method\n",
        "    4.  Filters the columns '`Last_Name`', '`First_Name`', and '`P`' from the selected row\n",
        "\n",
        "## Q2h.\n",
        "\n",
        "-   How well did he perform in the entire league? Put differently, what was his rank in terms of points?\n"
      ],
      "id": "56cb3fe0"
    },
    {
      "cell_type": "code",
      "metadata": {},
      "source": [
        "q2h = (\n",
        "     q2b.assign(ranking = q2b['P'].rank(method = 'min', ascending=False))  # Create a new column 'ranking' based on the values in column 'P'\n",
        "        .sort_values(by='P', ascending=False)  # Sort the DataFrame by 'P' column in descending order\n",
        "        .loc[q2b['Nat'] == 'RUS']  # Filter the rows where the 'Nat' column is 'RUS'\n",
        "        .head(1)[['ranking', 'Last_Name', 'First_Name', 'P']]  # Select the top row and specific columns\n",
        "        )\n",
        "\n",
        "q2h"
      ],
      "id": "53ccb02c",
      "execution_count": null,
      "outputs": []
    },
    {
      "cell_type": "markdown",
      "metadata": {},
      "source": [
        "## Q2i.\n",
        "\n",
        "-   Find the top ten scorers (in terms of points) and print them including their number of point and their respective team.\n"
      ],
      "id": "b75e509f"
    },
    {
      "cell_type": "code",
      "metadata": {},
      "source": [
        "q2i = ( q2b.assign( ranking = q2b['P'].rank(ascending=False) )   # add a new column 'ranking' based on the 'P' column's rank\n",
        "           .sort_values(by='P', ascending=False)                  # sort by 'P' column in descending order\n",
        "           )\n",
        "\n",
        "( q2i.loc[q2i['ranking'] <= 10]                                    # select rows where 'ranking' is less than or equal to 10\n",
        "            [['ranking', 'Last_Name', 'First_Name', 'P', 'Team']]  # select specific columns\n",
        "            )\n"
      ],
      "id": "de037f56",
      "execution_count": null,
      "outputs": []
    },
    {
      "cell_type": "markdown",
      "metadata": {},
      "source": [
        "## Q2j.\n",
        "\n",
        "-   What are the three countries with the most players originating from?\n"
      ],
      "id": "91cd3930"
    },
    {
      "cell_type": "code",
      "metadata": {},
      "source": [
        "# Create a dataframe of count of players by nationality\n",
        "q2j = q2b[['Nat']].value_counts().reset_index()\n",
        "\n",
        "# Rename the columns of the dataframe\n",
        "q2j.columns = ['Nat', 'counts']\n",
        "\n",
        "# Create a new column 'ranking' with the ranking of each nationality by count\n",
        "q2j = ( q2j.assign( ranking = q2j['counts']\n",
        "                             .rank(method = 'dense', ascending=False) )\n",
        "           \n",
        "           # Filter the dataframe to only include the top 3 nationalities by count\n",
        "           .query('ranking <= 3' ) \n",
        "      )"
      ],
      "id": "3b972358",
      "execution_count": null,
      "outputs": []
    },
    {
      "cell_type": "markdown",
      "metadata": {},
      "source": [
        "# Question 3\n",
        "\n",
        "-   Consider the data file, `coal_production_county.csv`.\n"
      ],
      "id": "fa0cfd03"
    },
    {
      "cell_type": "code",
      "metadata": {},
      "source": [
        "#| echo: true\n",
        "#| eval: true\n",
        "coal = pd.read_csv('https://bcdanl.github.io/data/coal_production_county.csv')"
      ],
      "id": "784ab340",
      "execution_count": null,
      "outputs": []
    },
    {
      "cell_type": "code",
      "metadata": {},
      "source": [
        "#| echo: true\n",
        "#| eval: true\n",
        "coal.describe()"
      ],
      "id": "30cc5d42",
      "execution_count": null,
      "outputs": []
    },
    {
      "cell_type": "code",
      "metadata": {},
      "source": [
        "#| echo: true\n",
        "#| eval: true\n",
        "coal.groupby('year').describe()"
      ],
      "id": "a8785af7",
      "execution_count": null,
      "outputs": []
    },
    {
      "cell_type": "code",
      "metadata": {},
      "source": [
        "coal.groupby('state').describe()"
      ],
      "id": "1a9e4076",
      "execution_count": null,
      "outputs": []
    },
    {
      "cell_type": "code",
      "metadata": {},
      "source": [
        "coal.groupby(['year', 'state']).describe()"
      ],
      "id": "8921ab71",
      "execution_count": null,
      "outputs": []
    },
    {
      "cell_type": "markdown",
      "metadata": {},
      "source": [
        "## Q3a.\n",
        "\n",
        "-   For each type of mine, calculate the total coal production for each pair of state-year.\n"
      ],
      "id": "0076b9da"
    },
    {
      "cell_type": "code",
      "metadata": {},
      "source": [
        "# Create a new column 'production' which is the sum of two other columns\n",
        "coal['production'] = coal['production_underground'] + coal['production_surface']\n",
        "\n",
        "# Group the data by 'state' and 'year' columns and calculate the sum of 'production', 'production_underground', and 'production_surface'\n",
        "q3a = (\n",
        "       coal[ ['state', 'year', 'production',\n",
        "             'production_underground',\n",
        "             'production_surface'] ]\n",
        "       .groupby(['state', 'year'])\n",
        "       .sum()\n",
        "       )\n",
        "\n",
        "q3a"
      ],
      "id": "a7e3c5f0",
      "execution_count": null,
      "outputs": []
    },
    {
      "cell_type": "markdown",
      "metadata": {},
      "source": [
        "## Q3b.\n",
        "\n",
        "-   Find the top 5 coal-producing states for each year.\n"
      ],
      "id": "e69ebdb3"
    },
    {
      "cell_type": "code",
      "metadata": {},
      "source": [
        "# Creates a new dataframe q3b\n",
        "q3b = (\n",
        "       # Reset the index of q3a\n",
        "       q3a.reset_index()\n",
        "       # Sort the values of q3a by the production column in descending order\n",
        "       .sort_values(['production'], ascending = False)\n",
        "       # Group q3a by year and get the head with the largest production for each year\n",
        "       .groupby('year')\n",
        "       .head()\n",
        "       # Sort q3b first by year in ascending order and then by production in descending order\n",
        "       .sort_values(['year','production'], ascending = [True, False])\n",
        "       )\n",
        "\n",
        "q3b"
      ],
      "id": "d23712f4",
      "execution_count": null,
      "outputs": []
    },
    {
      "cell_type": "markdown",
      "metadata": {},
      "source": [
        "## Q3c.\n",
        "\n",
        "-   Visualize the yearly trend of the total coal production from each type of mine.\n"
      ],
      "id": "47fa1064"
    },
    {
      "cell_type": "code",
      "metadata": {},
      "source": [
        "# selecting the columns 'year', 'production_underground', and 'production_surface' from the original DataFrame coal, grouping them by year, and summing the values of each group.\n",
        "q3c = (\n",
        "  coal[['year','production_underground', 'production_surface']]\n",
        "    .groupby(['year']).sum()\n",
        "    )"
      ],
      "id": "a5c692f5",
      "execution_count": null,
      "outputs": []
    },
    {
      "cell_type": "code",
      "metadata": {},
      "source": [
        "# create a line plot for the 'production_underground' column of the q3c DataFrame.\n",
        "q3c['production_underground'].plot()"
      ],
      "id": "8aba0584",
      "execution_count": null,
      "outputs": []
    },
    {
      "cell_type": "code",
      "metadata": {},
      "source": [
        "# create a line plot for the 'production_surface' column of the q3c DataFrame.\n",
        "q3c['production_surface'].plot()"
      ],
      "id": "cbc71857",
      "execution_count": null,
      "outputs": []
    },
    {
      "cell_type": "code",
      "metadata": {},
      "source": [
        "# create a line plot for the 'production_underground' and 'production_surface' columns of the q3c DataFrame on the same graph.\n",
        "q3c.plot()"
      ],
      "id": "a54f467b",
      "execution_count": null,
      "outputs": []
    }
  ],
  "metadata": {
    "kernelspec": {
      "name": "python3",
      "language": "python",
      "display_name": "Python 3 (ipykernel)"
    }
  },
  "nbformat": 4,
  "nbformat_minor": 5
}