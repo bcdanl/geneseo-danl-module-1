{
  "cells": [
    {
      "cell_type": "raw",
      "metadata": {},
      "source": [
        "---\n",
        "title: Classwork 1\n",
        "subtitle: Python Basics\n",
        "date: 2024-02-06\n",
        "execute: \n",
        "  eval: false\n",
        "  echo: false\n",
        "  warning: false\n",
        "  message: false\n",
        "---"
      ],
      "id": "1cb09c7b"
    },
    {
      "cell_type": "markdown",
      "metadata": {},
      "source": [
        "# Question 1\n"
      ],
      "id": "d76ffb68"
    },
    {
      "cell_type": "code",
      "metadata": {},
      "source": [
        "#| echo: true\n",
        "list_variable = [100, 144, 169, 1000, 8]"
      ],
      "id": "86196e10",
      "execution_count": null,
      "outputs": []
    },
    {
      "cell_type": "markdown",
      "metadata": {},
      "source": [
        "Write a Python code that uses `print()` and `max()` functions to print out the largest value in the list, `list_variable`, as follows:\n",
        "\n",
        "<div style=\"font-family:courier\">The largest value in the list is: 1000</div>\n",
        "<div style=\"font-family:courier\">The smallest value in the list is: 8</div>\n"
      ],
      "id": "6a7dafb9"
    },
    {
      "cell_type": "code",
      "metadata": {},
      "source": [
        "# Answer\n",
        "list_variable = [100, 144, 169, 1000, 8]\n",
        "\n",
        "print('The largest value in the list is:', max(list_variable),',\\n'\n",
        "      'The smallest value in the list is:', min(list_variable), '.')"
      ],
      "id": "29009a0e",
      "execution_count": null,
      "outputs": []
    },
    {
      "cell_type": "markdown",
      "metadata": {},
      "source": [
        "<br><br><br> \n",
        "\n",
        "# Question 2\n"
      ],
      "id": "72ec5bdb"
    },
    {
      "cell_type": "code",
      "metadata": {},
      "source": [
        "#| echo: true\n",
        "fare = \"$10.00\"\n",
        "tip = \"2.00$\"\n",
        "tax = \"$ 0.80\""
      ],
      "id": "9031e797",
      "execution_count": null,
      "outputs": []
    },
    {
      "cell_type": "markdown",
      "metadata": {},
      "source": [
        "Write a Python code that uses *slicing* and the `print()` function to print out the following message: \n",
        "\n",
        "<div style=\"font-family:courier\">The total trip cost is: $12.80</div>\n"
      ],
      "id": "265865ed"
    },
    {
      "cell_type": "code",
      "metadata": {},
      "source": [
        "# Answer\n",
        "fare = \"$10.00\"\n",
        "tip = \"2.00$\"\n",
        "tax = \"$ 0.80\"\n",
        "\n",
        "fare = fare[1:]\n",
        "tip = tip[0:3]\n",
        "tax = tax[2:]\n",
        "\n",
        "# add up float values and assign to trip_total variable\n",
        "trip_total = float(fare) + float(tip) + float(tax)\n",
        "print (\"The total trip cost is:\", \"$\" + str(trip_total))"
      ],
      "id": "ef566f0a",
      "execution_count": null,
      "outputs": []
    },
    {
      "cell_type": "markdown",
      "metadata": {},
      "source": [
        "<br><br><br>\n",
        "\n",
        "# Question 3\n"
      ],
      "id": "e36612cb"
    },
    {
      "cell_type": "code",
      "metadata": {},
      "source": [
        "#| echo: true\n",
        "x = 4.0\n",
        "y = .5"
      ],
      "id": "ebe73d68",
      "execution_count": null,
      "outputs": []
    },
    {
      "cell_type": "markdown",
      "metadata": {},
      "source": [
        "For each expression below, what is the value of the expression? Explain thoroughly.\n"
      ],
      "id": "7cdc5421"
    },
    {
      "cell_type": "code",
      "metadata": {},
      "source": [
        "#| echo: true\n",
        "20 == '20'\n",
        "bool(0) != bool('')\n",
        "x < y or 3*y < x\n",
        "not (100 == '100' and 25 < 36)"
      ],
      "id": "218a6046",
      "execution_count": null,
      "outputs": []
    },
    {
      "cell_type": "markdown",
      "metadata": {},
      "source": [
        "a. The statement `20 == '20'` is `False`.\n",
        "  - The left-hand side `20` is integer and the right-hand side `'20'` is string.\n",
        "  \n",
        "<br>\n",
        "\n",
        "b. The statement `bool(0) != bool('')` is `False`.\n",
        "  - The left-hand side `bool(0)` is `False`.\n",
        "  - The right-hand side `bool('')` is `False`.\n",
        "  - The statement `False != False` is `False`.\n",
        "  \n",
        "<br>\n",
        "\n",
        "c. The statement `x < y or 3*y < x` is `True`.\n",
        "  - Let `x < y` be the statement A. The statement A is `False`.\n",
        "  - Let `3*y < x` be the statement B. The statement B is `True`.\n",
        "  - The statement `A or B` is `True`, because either `A` or `B` is `True`.\n",
        "  \n",
        "<br>\n",
        "\n",
        "d. The statement `not (100 == '100' and 25 < 36)` is `True`.\n",
        "  - Let `100 == '100'` be the statement C. \n",
        "  - The statement C is `False`, because the left-hand side 100 is integer and the right-hand side '100' is string.\n",
        "  - Let `25 < 36` be the statement D. The statement D is `True`.\n",
        "  - The statement `C and D` is `False`, because either `C` or `D` is `False`.\n",
        "  - The statement `not (C and D)` is `True`, because `not (False)` is `not False`, which is `True`.\n",
        "\n",
        "<br><br><br>\n",
        "\n",
        "# Question 4\n",
        "\n",
        "This Python code creates a tuple with seven different ages:\n"
      ],
      "id": "fc66c566"
    },
    {
      "cell_type": "code",
      "metadata": {},
      "source": [
        "#| echo: true\n",
        "respondent_ages = (65, 29, 25, 35, 58, 23, 19)"
      ],
      "id": "a0e6be01",
      "execution_count": null,
      "outputs": []
    },
    {
      "cell_type": "markdown",
      "metadata": {},
      "source": [
        "Write a Python code that uses a *for-loop* statement and a *if-else* statement to assign the list, `under40_list`, to `[29, 25, 35, 23, 19]` and the list, `over40_list`, to `[65, 58]`.\n"
      ],
      "id": "d6841f7e"
    },
    {
      "cell_type": "code",
      "metadata": {},
      "source": [
        "# Answer\n",
        "respondent_ages = (65, 29, 25, 35, 58, 23, 19)\n",
        "\n",
        "under40_list = []\n",
        "over40_list = []\n",
        "for age in respondent_ages:\n",
        "    if age < 40:\n",
        "        under40_list.append(age)\n",
        "    else:\n",
        "        over40_list.append(age)\n",
        "        \n",
        "print(under40_list)\n",
        "print(over40_list)"
      ],
      "id": "4cc85d32",
      "execution_count": null,
      "outputs": []
    },
    {
      "cell_type": "markdown",
      "metadata": {},
      "source": [
        "<br><br><br>\n",
        "\n",
        "# Question 5\n"
      ],
      "id": "1791f348"
    },
    {
      "cell_type": "code",
      "metadata": {},
      "source": [
        "#| echo: true\n",
        "tuple_var = (1, 2, 3, 4, 5, 6, 7, 8, 9, 10)\n",
        "total = 0"
      ],
      "id": "4a9f51fe",
      "execution_count": null,
      "outputs": []
    },
    {
      "cell_type": "markdown",
      "metadata": {},
      "source": [
        "Write a Python code that uses the following two lines (1) a *for-loop* statement to process each element of `tuple_var` and (2) the following line.\n"
      ],
      "id": "b96818d3"
    },
    {
      "cell_type": "code",
      "metadata": {},
      "source": [
        "#| echo: true\n",
        "print(\"The total of the values in the tuple is: \", total)"
      ],
      "id": "388d11f0",
      "execution_count": null,
      "outputs": []
    },
    {
      "cell_type": "code",
      "metadata": {},
      "source": [
        "# Answer\n",
        "\n",
        "tuple_var = (1, 2, 3, 4, 5, 6, 7, 8, 9, 10)\n",
        "total = 0\n",
        "for value in tuple_var:   # tuple is iterable.\n",
        "    total += value\n",
        "\n",
        "print(\"The total of the values in the tuple is: \", total)"
      ],
      "id": "6b71f4f4",
      "execution_count": null,
      "outputs": []
    },
    {
      "cell_type": "markdown",
      "metadata": {},
      "source": [
        "- When we have a list of things to loop through, we can construct a `for` loop.\n",
        "  - The above for-loop is equivalent to the following Python code without for-loop.\n"
      ],
      "id": "c5377635"
    },
    {
      "cell_type": "code",
      "metadata": {},
      "source": [
        "tuple_var = (1, 2, 3, 4, 5, 6, 7, 8, 9, 10)\n",
        "total = 0\n",
        "\n",
        "total = total + tuple_var[0]\n",
        "total = total + tuple_var[1]\n",
        "total = total + tuple_var[2]\n",
        "total = total + tuple_var[3]\n",
        "total = total + tuple_var[4]\n",
        "total = total + tuple_var[5]\n",
        "total = total + tuple_var[6]\n",
        "total = total + tuple_var[7]\n",
        "total = total + tuple_var[8]\n",
        "total = total + tuple_var[9]\n",
        "\n",
        "print(\"The total of the values in the tuple is: \", total)"
      ],
      "id": "a1c6b212",
      "execution_count": null,
      "outputs": []
    },
    {
      "cell_type": "markdown",
      "metadata": {},
      "source": [
        "<br><br><br>\n",
        "  \n",
        "# Question 6\n",
        "\n",
        "Write a Python code that uses a *while-loop* and the `print()` function to print out the following message 5 times:\n",
        "\n",
        "<div style=\"font-family:courier\">Programming for Data Analytics is so fun!</div>\n"
      ],
      "id": "6b940fd1"
    },
    {
      "cell_type": "code",
      "metadata": {},
      "source": [
        "# Answer\n",
        "i = 0\n",
        "while i < 5:\n",
        "    print(\"Programming for Data Analytics is so fun!\")\n",
        "    i += 1"
      ],
      "id": "fc6254f6",
      "execution_count": null,
      "outputs": []
    },
    {
      "cell_type": "markdown",
      "metadata": {},
      "source": [
        "- Step 1. We first assigned the value 0 to `i`.\n",
        "\n",
        "- Step 2. The `while` loop compared the value of `i` to 5 and continued if `i` was less than 5.\n",
        "\n",
        "- Step 3. Inside the `while` loop, we printed `Programming for Data Analytics is so fun!` and then incremented `i` by 1 with the statement `i += 1`.\n",
        "\n",
        "- Step 4. Python goes back to the top of the loop, and again compares `i` with 5.\n",
        "\n",
        "- Step 5. The value of `i` is now 1, so the contents of the `while` loop are again executed, and `i` is incremented to 2.\n",
        "\n",
        "- Step 6. This continues until `i` is incremented from 4 to 5 at the bottom of the loop.\n",
        "\n",
        "- Step 7. On the next trip to the top, `i < 5` is now `False`, and the `while` loop ends.\n",
        "\n",
        "\n",
        "<br><br><br>\n",
        "  \n",
        "# Discussion\n"
      ],
      "id": "f5af9782"
    }
  ],
  "metadata": {
    "kernelspec": {
      "display_name": "Python 3",
      "language": "python",
      "name": "python3"
    }
  },
  "nbformat": 4,
  "nbformat_minor": 5
}