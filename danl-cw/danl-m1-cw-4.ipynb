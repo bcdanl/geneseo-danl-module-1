{
  "cells": [
    {
      "cell_type": "raw",
      "metadata": {},
      "source": [
        "---\n",
        "title: Classwork 4\n",
        "subtitle: Group Operations with GroupBy Objects [The Classwork 4 may be subject to change during the Module.]\n",
        "date: 2024-02-27\n",
        "execute: \n",
        "  eval: false\n",
        "  echo: false\n",
        "  warning: false\n",
        "  message: false\n",
        "---"
      ],
      "id": "90ee9f63"
    },
    {
      "cell_type": "markdown",
      "metadata": {},
      "source": [
        "## Load Libraries\n"
      ],
      "id": "650f9fc8"
    },
    {
      "cell_type": "code",
      "metadata": {},
      "source": [
        "#| echo: true\n",
        "import pandas as pd\n",
        "import numpy as np\n",
        "import seaborn as sns"
      ],
      "id": "a6ed4684",
      "execution_count": null,
      "outputs": []
    },
    {
      "cell_type": "markdown",
      "metadata": {},
      "source": [
        "# Question 1\n",
        "\n",
        "## Load `DataFrame`\n"
      ],
      "id": "77ccd03b"
    },
    {
      "cell_type": "code",
      "metadata": {},
      "source": [
        "#| echo: true\n",
        "#| eval: false\n",
        "beer_mkt = pd.read_csv('https://bcdanl.github.io/data/beer_markets.csv')\n",
        "beer_mkt.head(10)"
      ],
      "id": "9c420e3d",
      "execution_count": null,
      "outputs": []
    },
    {
      "cell_type": "markdown",
      "metadata": {},
      "source": [
        "-   Variable Description\n",
        "    -   `hh`: An identifier of the purchasing household;\n",
        "    -   `_purchase_desc`: Details on the purchased item;\n",
        "    -   `quantity`: Number of items purchased;\n",
        "    -   `brand`: BUD LIGHT, BUSCH LIGHT, COORS LIGHT, MILLER LITE, or NATURAL LIGHT;\n",
        "    -   `spent`: Total dollar value of purchase;\n",
        "    -   `beer_floz`: Total volume of beer, in fluid ounces;\n",
        "    -   `price_per_floz`: Price per fl.oz. (i.e., `spent`/`beer_floz`);\n",
        "    -   `container`: Type of container;\n",
        "    -   `promo`: Whether the item was promoted (coupon or something else);\n",
        "    -   `market`: Scan-track market (or state if rural);\n",
        "    -   various demographic data, including gender, marital status, household income, class of work, race, education, age, the size of household, and whether or not the household has a microwave or a dishwasher.\n",
        "\n",
        "<br><br>\n",
        "\n",
        "## Q1a\n",
        "\n",
        "-   Sort the DataFrame `beer_mkt` by `hh` in ascending order.\n",
        "<br>\n",
        "\n",
        "*Answer*"
      ],
      "id": "ad4bc78d"
    },
    {
      "cell_type": "markdown",
      "metadata": {},
      "source": [
        "## Q1b\n",
        "\n",
        "-   Find the top 5 beer markets in terms of the number of households that purchased beer.\n",
        "<br>\n",
        "\n",
        "*Answer*"
      ],
      "id": "fba2bbb3"
    },
    {
      "cell_type": "markdown",
      "metadata": {},
      "source": [
        "## Q1c\n",
        "\n",
        "-   Find the top 5 beer markets in terms of the amount of total beer consumption.\n",
        "<br>\n",
        "\n",
        "*Answer*"
      ],
      "id": "aa77e7b1"
    },
    {
      "cell_type": "markdown",
      "metadata": {},
      "source": [
        "## Q1d\n",
        "\n",
        "-   Provide (1) seaborn code and (2) a simple comment to describe how the distribution of `price_per_floz` varies by `brand`.\n",
        "<br>\n",
        "\n",
        "*Answer*"
      ],
      "id": "13fda6e9"
    },
    {
      "cell_type": "markdown",
      "metadata": {},
      "source": [
        "## Q1e\n",
        "\n",
        "-   Provide (1) seaborn code and (2) a simple comment to describe how the relationship between `price_per_floz` and `beer_floz` varies by `brand`.\n",
        "<br>\n",
        "\n",
        "*Answer*"
      ],
      "id": "1a0713ee"
    },
    {
      "cell_type": "markdown",
      "metadata": {},
      "source": [
        "<br><br><br>\n",
        "  \n",
        "# Discussion\n",
        "\n",
        "<font size = \"5\">Hello everyone! Welcome to our Classwork 1 Discussion Board! 🌟 </font>\n",
        "\n",
        "This board is here for you to connect with peer classmates over the content presented in Classwork 1. \n",
        "\n",
        "If you have specific questions for Byeong-Hak (**@bcdanl**) related to Classwork 1 or if you're seeking more detailed explanations on any topics, don't hesitate to post them here.\n",
        "\n",
        "Let's work together and enrich our learning experience!\n"
      ],
      "id": "0f7ea433"
    }
  ],
  "metadata": {
    "kernelspec": {
      "display_name": "Python 3",
      "language": "python",
      "name": "python3"
    }
  },
  "nbformat": 4,
  "nbformat_minor": 5
}