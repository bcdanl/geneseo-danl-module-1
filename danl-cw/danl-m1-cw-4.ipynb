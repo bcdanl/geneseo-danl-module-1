{
  "cells": [
    {
      "cell_type": "raw",
      "metadata": {},
      "source": [
        "---\n",
        "title: Classwork 4\n",
        "subtitle: Group Operations with GroupBy Objects\n",
        "date: 2024-02-27\n",
        "execute: \n",
        "  eval: false\n",
        "  echo: false\n",
        "  warning: false\n",
        "  message: false\n",
        "---"
      ],
      "id": "90c48478"
    },
    {
      "cell_type": "markdown",
      "metadata": {},
      "source": [
        "## Load Libraries\n"
      ],
      "id": "536b6121"
    },
    {
      "cell_type": "code",
      "metadata": {},
      "source": [
        "#| echo: true\n",
        "import pandas as pd\n",
        "import numpy as np\n",
        "from skimpy import skim\n",
        "import seaborn as sns"
      ],
      "id": "b228624e",
      "execution_count": null,
      "outputs": []
    },
    {
      "cell_type": "markdown",
      "metadata": {},
      "source": [
        "# Question 1\n",
        "\n",
        "## Load `DataFrame`\n"
      ],
      "id": "37dac71a"
    },
    {
      "cell_type": "code",
      "metadata": {},
      "source": [
        "#| echo: true\n",
        "#| eval: false\n",
        "beer_mkt = pd.read_csv('https://bcdanl.github.io/data/beer_markets.csv')\n",
        "beer_mkt.head(10)"
      ],
      "id": "63dc111c",
      "execution_count": null,
      "outputs": []
    },
    {
      "cell_type": "markdown",
      "metadata": {},
      "source": [
        "-   Variable Description\n",
        "    -   `hh`: An identifier of the purchasing household;\n",
        "    -   `_purchase_desc`: Details on the purchased item;\n",
        "    -   `quantity`: Number of items purchased;\n",
        "    -   `brand`: BUD LIGHT, BUSCH LIGHT, COORS LIGHT, MILLER LITE, or NATURAL LIGHT;\n",
        "    -   `spent`: Total dollar value of purchase;\n",
        "    -   `beer_floz`: Total volume of beer, in fluid ounces;\n",
        "    -   `price_per_floz`: Price per fl.oz. (i.e., `spent`/`beer_floz`);\n",
        "    -   `container`: Type of container;\n",
        "    -   `promo`: Whether the item was promoted (coupon or something else);\n",
        "    -   `market`: Scan-track market (or state if rural);\n",
        "    -   various demographic data, including gender, marital status, household income, class of work, race, education, age, the size of household, and whether or not the household has a microwave or a dishwasher.\n",
        "-   Summarize DataFrame `beer_mkt`.\n"
      ],
      "id": "9495acbf"
    },
    {
      "cell_type": "code",
      "metadata": {
        "message": false
      },
      "source": [
        "#| warning: false\n",
        "\n",
        "\n",
        "skim(beer_mkt)"
      ],
      "id": "446cfae2",
      "execution_count": null,
      "outputs": []
    },
    {
      "cell_type": "code",
      "metadata": {
        "message": false
      },
      "source": [
        "#| warning: false\n",
        "\n",
        "\n",
        "beer_mkt.describe()"
      ],
      "id": "c21879e6",
      "execution_count": null,
      "outputs": []
    },
    {
      "cell_type": "code",
      "metadata": {
        "message": false
      },
      "source": [
        "#| warning: false\n",
        "\n",
        "\n",
        "beer_mkt.groupby('brand').describe()"
      ],
      "id": "00972f30",
      "execution_count": null,
      "outputs": []
    },
    {
      "cell_type": "markdown",
      "metadata": {},
      "source": [
        "## Q1a\n",
        "\n",
        "-   Sort the DataFrame `beer_mkt` by `hh` in ascending order.\n"
      ],
      "id": "81e57e92"
    },
    {
      "cell_type": "code",
      "metadata": {},
      "source": [
        "beer_mkt = beer_mkt.sort_values('hh')"
      ],
      "id": "a4c8e222",
      "execution_count": null,
      "outputs": []
    },
    {
      "cell_type": "markdown",
      "metadata": {},
      "source": [
        "## Q1b\n",
        "\n",
        "-   Find the top 5 beer markets in terms of the number of households that purchased beer.\n"
      ],
      "id": "a5ce23fe"
    },
    {
      "cell_type": "code",
      "metadata": {},
      "source": [
        "# value_counts()\n",
        "q1b = (\n",
        "       beer_mkt[['market', 'hh']]\n",
        "       .value_counts()\n",
        "       .sort_index()\n",
        "       .groupby('market')\n",
        "       .count()\n",
        "       .sort_values(ascending = False)\n",
        "       )\n",
        "       \n",
        "# size()\n",
        "q1b = (\n",
        "       beer_mkt.groupby(['market', 'hh'])\n",
        "       .size()\n",
        "       .count(level='market')\n",
        "       .sort_values(ascending = False)\n",
        "       )\n",
        "\n",
        "\n",
        "# adding a ranking variable to the DataFrame\n",
        "q1b = pd.DataFrame(q1b, columns=['n_hh'])\n",
        "q1b['ranking'] = q1b['n_hh'].rank(method = 'dense', ascending = False)\n",
        "q1b = q1b.query('ranking <= 5')"
      ],
      "id": "d42094d2",
      "execution_count": null,
      "outputs": []
    },
    {
      "cell_type": "markdown",
      "metadata": {},
      "source": [
        "## Q1c\n",
        "\n",
        "-   Find the top 5 beer markets in terms of the amount of total beer consumption.\n"
      ],
      "id": "6973073d"
    },
    {
      "cell_type": "code",
      "metadata": {},
      "source": [
        "q1c = (\n",
        "       beer_mkt\n",
        "       .groupby('market')[['beer_floz']]\n",
        "       .sum()\n",
        "       .sort_values(by = 'beer_floz', ascending = False)\n",
        "       )\n",
        "\n",
        "# adding a ranking variable to the DataFrame\n",
        "q1c['ranking'] = q1c['beer_floz'].rank(method = 'dense', ascending = False)\n",
        "q1c = q1c.query('ranking <= 5')"
      ],
      "id": "839c3cc8",
      "execution_count": null,
      "outputs": []
    },
    {
      "cell_type": "markdown",
      "metadata": {},
      "source": [
        "## Q1d\n",
        "\n",
        "-   Provide (1) seaborn code and (2) a simple comment to describe how the distribution of `price_per_floz` varies by `brand`.\n"
      ],
      "id": "81f55b42"
    },
    {
      "cell_type": "code",
      "metadata": {},
      "source": [
        "sns.displot(data = beer_mkt,\n",
        "            x = 'price_per_floz', bins = 200,\n",
        "            hue = 'brand', # for colorful histogram\n",
        "            row = 'brand')"
      ],
      "id": "ed379ae4",
      "execution_count": null,
      "outputs": []
    },
    {
      "cell_type": "markdown",
      "metadata": {},
      "source": [
        "## Q1e\n",
        "\n",
        "-   Provide (1) seaborn code and (2) a simple comment to describe how the relationship between `price_per_floz` and `beer_floz` varies by `brand`.\n"
      ],
      "id": "d302c661"
    },
    {
      "cell_type": "code",
      "metadata": {},
      "source": [
        "sns.lmplot(data = beer_mkt,\n",
        "           x = \"beer_floz\",\n",
        "           y = \"price_per_floz\",\n",
        "           scatter_kws = {'alpha' : 0.1},\n",
        "           hue = 'brand',\n",
        "           row = 'brand')"
      ],
      "id": "1513e31a",
      "execution_count": null,
      "outputs": []
    },
    {
      "cell_type": "code",
      "metadata": {},
      "source": [
        "# adding log transformed variables\n",
        "beer_mkt['log_beer_floz'] = np.log(beer_mkt['beer_floz'])\n",
        "beer_mkt['log_price_per_floz'] = np.log(beer_mkt['price_per_floz'])\n",
        "\n",
        "\n",
        "sns.lmplot(data = beer_mkt,\n",
        "           x = \"log_beer_floz\",\n",
        "           y = \"log_price_per_floz\",\n",
        "           scatter_kws = {'alpha' : 0.1},\n",
        "           hue = 'brand',\n",
        "           row = 'brand')"
      ],
      "id": "a8f17ccd",
      "execution_count": null,
      "outputs": []
    }
  ],
  "metadata": {
    "kernelspec": {
      "display_name": "Python 3",
      "language": "python",
      "name": "python3"
    }
  },
  "nbformat": 4,
  "nbformat_minor": 5
}